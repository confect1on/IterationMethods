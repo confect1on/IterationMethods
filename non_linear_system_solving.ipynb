{
 "cells": [
  {
   "cell_type": "code",
   "execution_count": 87,
   "id": "47985d8d-6a89-4af4-907c-abc2423ea930",
   "metadata": {},
   "outputs": [],
   "source": [
    "import numpy as np\n",
    "import math"
   ]
  },
  {
   "cell_type": "code",
   "execution_count": 66,
   "id": "62f9f2a9-74c1-4351-931f-eabba35bef52",
   "metadata": {},
   "outputs": [],
   "source": [
    "def generate_jacobian(x, h, func_vector):\n",
    "    g = np.zeros((2, 2), dtype=np.float64);\n",
    "    for i in range(2):\n",
    "        for j in range(2):\n",
    "            h_x = np.array(x, copy=True)\n",
    "            h_x[0][j] += h[0][j]\n",
    "            g[i][j] = (func_vector[i](h_x) - func_vector[i](x))/h[0][j]\n",
    "    return g"
   ]
  },
  {
   "cell_type": "code",
   "execution_count": 42,
   "id": "ee585970-2c0b-467a-b9f8-7515f2c6581e",
   "metadata": {},
   "outputs": [],
   "source": [
    "def calc_vector_func(x, func_vector):\n",
    "    res = np.zeros((len(func_vector), 1))\n",
    "    for i, func in enumerate(func_vector):\n",
    "        res[i][0] = func(x)\n",
    "    return res"
   ]
  },
  {
   "cell_type": "code",
   "execution_count": 85,
   "id": "39b77135-90e7-42d8-a5c0-86ba7bcd7d8e",
   "metadata": {},
   "outputs": [],
   "source": [
    "eps = 1e-6\n",
    "x_cur = np.random.rand(1, 2)\n",
    "x_prev = np.random.rand(1, 2)\n",
    "# function_vector = [lambda x: x[0][0] + x[0][1] + 1, lambda x: x[0][0] - x[0][1]]\n",
    "function_vector = [lambda x: math.sin(x[0][0] + 1) - x[0][1] - 1.2, lambda x: 2*x[0][0] + math.cos(x[0][1]) - 2]\n",
    "is_end = False\n",
    "## cycle\n",
    "while not is_end:\n",
    "    negative_f_vector = -calc_vector_func(x_cur, function_vector)\n",
    "    h_cur = x_cur - x_prev\n",
    "    jacobi_matrix = generate_jacobian(x_cur, h_cur, function_vector)\n",
    "    delta_x = np.linalg.solve(jacobi_matrix, negative_f_vector).T\n",
    "    x_prev = x_cur\n",
    "    x_cur = x_prev + delta_x\n",
    "    is_end = np.linalg.norm(x_cur - x_prev) <= eps"
   ]
  },
  {
   "cell_type": "code",
   "execution_count": 86,
   "id": "b95e795e-bf21-4ae3-b0f9-23ed69adb1d4",
   "metadata": {},
   "outputs": [
    {
     "data": {
      "text/plain": [
       "array([[ 0.51015016, -0.20183842]])"
      ]
     },
     "execution_count": 86,
     "metadata": {},
     "output_type": "execute_result"
    }
   ],
   "source": [
    "x_cur"
   ]
  }
 ],
 "metadata": {
  "kernelspec": {
   "display_name": "Python 3 (ipykernel)",
   "language": "python",
   "name": "python3"
  },
  "language_info": {
   "codemirror_mode": {
    "name": "ipython",
    "version": 3
   },
   "file_extension": ".py",
   "mimetype": "text/x-python",
   "name": "python",
   "nbconvert_exporter": "python",
   "pygments_lexer": "ipython3",
   "version": "3.11.5"
  }
 },
 "nbformat": 4,
 "nbformat_minor": 5
}
