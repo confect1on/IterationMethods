{
 "cells": [
  {
   "cell_type": "code",
   "execution_count": 26,
   "metadata": {
    "collapsed": true
   },
   "outputs": [],
   "source": [
    "import numpy as np\n",
    "import math"
   ]
  },
  {
   "cell_type": "code",
   "execution_count": 27,
   "outputs": [],
   "source": [
    "def is_u_triangular(a:np.ndarray):\n",
    "    return np.allclose(a[:, :4], np.triu(a[:, :4]))\n",
    "def is_singular(a:np.ndarray):\n",
    "    return np.linalg.det(a)\n",
    "def sign(x):\n",
    "    if x > 0:\n",
    "        return 1\n",
    "    elif x < 0:\n",
    "        return -1\n",
    "    return 0"
   ],
   "metadata": {
    "collapsed": false,
    "pycharm": {
     "name": "#%%\n"
    }
   }
  },
  {
   "cell_type": "code",
   "execution_count": 107,
   "outputs": [],
   "source": [
    "def reflection_method(matrix:np.ndarray):\n",
    "    b = matrix[:, -1:].copy()\n",
    "    a = matrix[:,:-1].copy()\n",
    "    n, m = a.shape\n",
    "    for i in range(n-1):\n",
    "        s = sign(-a[i,i])*np.linalg.norm(a[:, i])\n",
    "        etta = 1 / math.sqrt(2 * s * (s - a[i,i]))\n",
    "        w = a[:,i][..., np.newaxis].copy()\n",
    "        for j in range(i):\n",
    "            w[j, 0] = 0\n",
    "        w[i, 0] -= s\n",
    "        w *= etta\n",
    "        u = np.eye(n) - 2 * np.matmul(w, w.T)\n",
    "        a = np.matmul(u, a)\n",
    "        b = np.matmul(u, b)\n",
    "        # print(\"i= \", i)\n",
    "        # print(\"s: \", s)\n",
    "        # print(\"etta: \", etta)\n",
    "        # print(\"w: \", w)\n",
    "        # print(\"u: \", u)\n",
    "        # print(\"a: \", a)\n",
    "        # print(\"b: \", b)\n",
    "    return backward_gauss_method(np.concatenate((a, b), axis=1))"
   ],
   "metadata": {
    "collapsed": false,
    "pycharm": {
     "name": "#%%\n"
    }
   }
  },
  {
   "cell_type": "code",
   "execution_count": 29,
   "outputs": [],
   "source": [
    "def backward_gauss_method(a:np.ndarray):\n",
    "    a = a.copy()\n",
    "    n, m = a.shape\n",
    "    x = np.zeros((n, 1))\n",
    "    for k in range(n-1, -1, -1):\n",
    "        x[k] = (a[k, -1] - np.dot(a[k, k:n], x[k:n])) / a[k, k]\n",
    "    return x"
   ],
   "metadata": {
    "collapsed": false,
    "pycharm": {
     "name": "#%%\n"
    }
   }
  },
  {
   "cell_type": "code",
   "execution_count": 30,
   "outputs": [],
   "source": [
    "def rotation_method(a:np.ndarray):\n",
    "    a = a.copy()\n",
    "    n, m = a.shape\n",
    "    for k in range(0, m - 1):\n",
    "        for j in range(k + 1, n):\n",
    "            temp = math.sqrt(a[k,k] ** 2 + a[j,k] ** 2)\n",
    "            cos = a[k,k] / (temp)\n",
    "            sin = a[j,k] / (temp)\n",
    "            a_i = cos * a[k] + sin * a[j]\n",
    "            a_j = -sin * a[k] + cos * a[j]\n",
    "            a[k] = a_i\n",
    "            a[j] = a_j\n",
    "    return backward_gauss_method(a)"
   ],
   "metadata": {
    "collapsed": false,
    "pycharm": {
     "name": "#%%\n"
    }
   }
  },
  {
   "cell_type": "code",
   "execution_count": 31,
   "outputs": [
    {
     "name": "stdout",
     "output_type": "stream",
     "text": [
      "[[0.5 ]\n",
      " [0.25]\n",
      " [0.33]\n",
      " [1.  ]]\n"
     ]
    }
   ],
   "source": [
    "test = np.array([[0.0002, 3.4, -1.8, 2.1, 2.3561],\n",
    "                 [3.7, -0.9, 0.7, 5.7, 7.556],\n",
    "                 [-1.9, -27, 5.3, 2.9, -3.051],\n",
    "                 [18, 4.1, 7.3, -0.1, 12.334]]\n",
    "                 )\n",
    "res = rotation_method(test)\n",
    "print(res)"
   ],
   "metadata": {
    "collapsed": false,
    "pycharm": {
     "name": "#%%\n"
    }
   }
  },
  {
   "cell_type": "code",
   "execution_count": 32,
   "outputs": [
    {
     "name": "stdout",
     "output_type": "stream",
     "text": [
      "\n"
     ]
    }
   ],
   "source": [
    "print()\n"
   ],
   "metadata": {
    "collapsed": false,
    "pycharm": {
     "name": "#%%\n"
    }
   }
  },
  {
   "cell_type": "code",
   "execution_count": 33,
   "outputs": [
    {
     "name": "stdout",
     "output_type": "stream",
     "text": [
      "True\n"
     ]
    }
   ],
   "source": [
    "a = test[:, :4]\n",
    "b = test[:,-1]\n",
    "print(np.allclose(np.linalg.solve(a, b), res[:,0]))\n",
    "\n"
   ],
   "metadata": {
    "collapsed": false,
    "pycharm": {
     "name": "#%%\n"
    }
   }
  },
  {
   "cell_type": "code",
   "execution_count": 35,
   "outputs": [
    {
     "name": "stdout",
     "output_type": "stream",
     "text": [
      "Is vector \"w\" normalized: True\n",
      "Is \"u\" symmetric: True\n",
      "Is \"u\" orthogonalized: True\n"
     ]
    }
   ],
   "source": [
    "test = np.array([\n",
    "    [0.521, -0.296, 0, 0.04, -0.21, 0.24886],\n",
    "    [-0.296, 0.7, 0.24, -0.32, 0.06, -0.7012],\n",
    "    [0, 0.24, -0.35, 0.07, 0.21, 0.1347],\n",
    "    [0.04, -0.32, 0.7, 0.49, -0.03, 0.4659],\n",
    "    [-0.21, 0.06, 0.21, -0.03, 0.63, -0.1749]\n",
    "                   ])\n",
    "w = np.random.sample((4,1))\n",
    "w /= np.linalg.norm(w)\n",
    "print(\"Is vector \\\"w\\\" normalized: \" + str(np.allclose(np.linalg.norm(w), 1)))\n",
    "H = np.eye(4) - 2 * np.matmul(w, w.T)\n",
    "print(\"Is \\\"u\\\" symmetric: \" + str(np.allclose(H, H.T)))\n",
    "print(\"Is \\\"u\\\" orthogonalized: \" + str(np.allclose(np.matmul(H, H.T), np.eye(4))))\n",
    "\n",
    "#print(np.allclose(, np.ones((4, 4))))"
   ],
   "metadata": {
    "collapsed": false,
    "pycharm": {
     "name": "#%%\n"
    }
   }
  },
  {
   "cell_type": "code",
   "execution_count": 44,
   "outputs": [
    {
     "name": "stdout",
     "output_type": "stream",
     "text": [
      "(array([[-5.95894535,  0.25706894, -1.23154534, -2.14725253, -5.98434668],\n",
      "       [-7.0706967 ,  1.06033129, -1.23154534, -2.50725253, -5.71434668],\n",
      "       [-6.94729136,  0.17467874, -0.41520287, -2.11725253, -5.56434668],\n",
      "       [-6.93061496, -0.14572758, -0.89097296, -1.69725253, -5.80434668],\n",
      "       [-7.03484244,  0.07169099, -0.95477466, -2.21725253, -5.14434668]]), array([[ 0.48193363],\n",
      "       [-0.46812637],\n",
      "       [ 0.36777363],\n",
      "       [ 0.69897363],\n",
      "       [ 0.05817363]]))\n"
     ]
    }
   ],
   "source": [
    "print(reflection_method(test))"
   ],
   "metadata": {
    "collapsed": false,
    "pycharm": {
     "name": "#%%\n"
    }
   }
  },
  {
   "cell_type": "code",
   "execution_count": 40,
   "outputs": [
    {
     "name": "stdout",
     "output_type": "stream",
     "text": [
      "[[ 0.24886]\n",
      " [-0.7012 ]\n",
      " [ 0.1347 ]\n",
      " [ 0.4659 ]\n",
      " [-0.1749 ]]\n",
      "[[ 0.521 -0.296  0.     0.04  -0.21 ]\n",
      " [-0.296  0.7    0.24  -0.32   0.06 ]\n",
      " [ 0.     0.24  -0.35   0.07   0.21 ]\n",
      " [ 0.04  -0.32   0.7    0.49  -0.03 ]\n",
      " [-0.21   0.06   0.21  -0.03   0.63 ]]\n"
     ]
    }
   ],
   "source": [
    "print(test[:, -1:])\n",
    "print(test[:,:-1])"
   ],
   "metadata": {
    "collapsed": false,
    "pycharm": {
     "name": "#%%\n"
    }
   }
  },
  {
   "cell_type": "code",
   "execution_count": 94,
   "outputs": [
    {
     "name": "stdout",
     "output_type": "stream",
     "text": [
      "-11.40175425099138\n",
      "0.05720293851851626\n"
     ]
    }
   ],
   "source": [
    "example = np.array([\n",
    "    [2, 3, -4, 1, 3],\n",
    "    [1, -2, -5, 1, 2],\n",
    "    [5, -3, 1, -4, 1],\n",
    "    [10, 2, -1, 2, 4]\n",
    "], dtype='float64')\n",
    "ex_a = example[:,:-1].copy()\n",
    "ex_b = example[:, -1:].copy()\n",
    "s = sign(-ex_a[0,0])*np.linalg.norm(ex_a[:, 0])\n",
    "etta = 1 / math.sqrt(2 * s * (s - ex_a[0,0]))\n",
    "print(s)\n",
    "print(etta)"
   ],
   "metadata": {
    "collapsed": false,
    "pycharm": {
     "name": "#%%\n"
    }
   }
  },
  {
   "cell_type": "code",
   "execution_count": 95,
   "outputs": [
    {
     "name": "stdout",
     "output_type": "stream",
     "text": [
      "[[0.76661972]\n",
      " [0.05720294]\n",
      " [0.28601469]\n",
      " [0.57202939]]\n"
     ]
    }
   ],
   "source": [
    "w = ex_a[:,0][..., np.newaxis].copy()\n",
    "for j in range(0):\n",
    "    w[j] = 0\n",
    "w[0] -= s\n",
    "w *= etta\n",
    "print(w)"
   ],
   "metadata": {
    "collapsed": false,
    "pycharm": {
     "name": "#%%\n"
    }
   }
  },
  {
   "cell_type": "code",
   "execution_count": 96,
   "outputs": [
    {
     "name": "stdout",
     "output_type": "stream",
     "text": [
      "[[-0.1754116  -0.0877058  -0.43852901 -0.87705802]\n",
      " [-0.0877058   0.99345565 -0.03272176 -0.06544352]\n",
      " [-0.43852901 -0.03272176  0.83639119 -0.32721762]\n",
      " [-0.87705802 -0.06544352 -0.32721762  0.34556476]]\n"
     ]
    }
   ],
   "source": [
    "u = np.eye(4) - 2 * np.matmul(w, w.T)\n",
    "print(u)"
   ],
   "metadata": {
    "collapsed": false,
    "pycharm": {
     "name": "#%%\n"
    }
   }
  },
  {
   "cell_type": "code",
   "execution_count": 97,
   "outputs": [
    {
     "name": "stdout",
     "output_type": "stream",
     "text": [
      "[[-1.14017543e+01 -7.89352217e-01  1.57870443e+00 -2.63117406e-01]\n",
      " [ 0.00000000e+00 -2.28275046e+00 -4.58373327e+00  9.05749846e-01]\n",
      " [ 1.77635684e-15 -4.41375231e+00  3.08133366e+00 -4.47125077e+00]\n",
      " [ 1.77635684e-15 -8.27504628e-01  3.16266731e+00  1.05749846e+00]]\n"
     ]
    }
   ],
   "source": [
    "print(np.matmul(u, ex_a))"
   ],
   "metadata": {
    "collapsed": false,
    "pycharm": {
     "name": "#%%\n"
    }
   }
  },
  {
   "cell_type": "code",
   "execution_count": 108,
   "outputs": [
    {
     "name": "stdout",
     "output_type": "stream",
     "text": [
      "[[ 0.33155823]\n",
      " [ 0.23714997]\n",
      " [-0.45411275]\n",
      " [-0.13698309]]\n"
     ]
    }
   ],
   "source": [
    "print(reflection_method(example))\n"
   ],
   "metadata": {
    "collapsed": false,
    "pycharm": {
     "name": "#%%\n"
    }
   }
  },
  {
   "cell_type": "code",
   "execution_count": 104,
   "outputs": [
    {
     "name": "stdout",
     "output_type": "stream",
     "text": [
      "[[ 2.  3. -4.  1.  3.]\n",
      " [ 1. -2. -5.  1.  2.]\n",
      " [ 5. -3.  1. -4.  1.]\n",
      " [10.  2. -1.  2.  4.]]\n"
     ]
    }
   ],
   "source": [
    "print(np.concatenate((ex_a, ex_b), axis=1))"
   ],
   "metadata": {
    "collapsed": false,
    "pycharm": {
     "name": "#%%\n"
    }
   }
  },
  {
   "cell_type": "code",
   "execution_count": null,
   "outputs": [],
   "source": [],
   "metadata": {
    "collapsed": false,
    "pycharm": {
     "name": "#%%\n"
    }
   }
  }
 ],
 "metadata": {
  "kernelspec": {
   "display_name": "Python 3",
   "language": "python",
   "name": "python3"
  },
  "language_info": {
   "codemirror_mode": {
    "name": "ipython",
    "version": 2
   },
   "file_extension": ".py",
   "mimetype": "text/x-python",
   "name": "python",
   "nbconvert_exporter": "python",
   "pygments_lexer": "ipython2",
   "version": "2.7.6"
  }
 },
 "nbformat": 4,
 "nbformat_minor": 0
}