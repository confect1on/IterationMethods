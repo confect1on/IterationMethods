{
 "cells": [
  {
   "cell_type": "code",
   "execution_count": 1,
   "metadata": {
    "collapsed": true
   },
   "outputs": [],
   "source": [
    "import numpy as np\n",
    "import math\n",
    "import unittest"
   ]
  },
  {
   "cell_type": "code",
   "execution_count": 2,
   "outputs": [],
   "source": [
    "def is_u_triangular(a:np.ndarray):\n",
    "    return np.allclose(a[:, :4], np.triu(a[:, :4]))\n",
    "def is_singular(a:np.ndarray):\n",
    "    return np.linalg.det(a)\n",
    "def sign(x):\n",
    "    if x > 0:\n",
    "        return 1\n",
    "    elif x < 0:\n",
    "        return -1\n",
    "    return 0"
   ],
   "metadata": {
    "collapsed": false,
    "pycharm": {
     "name": "#%%\n"
    }
   }
  },
  {
   "cell_type": "code",
   "execution_count": 64,
   "outputs": [],
   "source": [
    "def reflection_method(a:np.array, b:np.array) -> np.array:\n",
    "    b = b.copy()\n",
    "    a = a.copy()\n",
    "    n, m = a.shape\n",
    "    for i in range(n-1):\n",
    "        s = sign(-a[i,i])*np.linalg.norm(a[:, i])\n",
    "        etta = 1 / math.sqrt(2 * s * (s - a[i,i]))\n",
    "        w = a[:,i][..., np.newaxis].copy()\n",
    "        for j in range(i):\n",
    "            w[j, 0] = 0\n",
    "        w[i, 0] -= s\n",
    "        w *= etta\n",
    "        u = np.eye(n) - 2 * np.matmul(w, w.T)\n",
    "        a = np.matmul(u, a)\n",
    "        b = np.matmul(u, b)\n",
    "    return backward_gauss_method(np.concatenate((a, b), axis=1))"
   ],
   "metadata": {
    "collapsed": false,
    "pycharm": {
     "name": "#%%\n"
    }
   }
  },
  {
   "cell_type": "code",
   "execution_count": 4,
   "outputs": [],
   "source": [
    "def backward_gauss_method(a:np.array) -> np.array:\n",
    "    a = a.copy()\n",
    "    n, m = a.shape\n",
    "    x = np.zeros((n, 1))\n",
    "    for k in range(n-1, -1, -1):\n",
    "        x[k] = (a[k, -1] - np.dot(a[k, k:n], x[k:n])) / a[k, k]\n",
    "    return x"
   ],
   "metadata": {
    "collapsed": false,
    "pycharm": {
     "name": "#%%\n"
    }
   }
  },
  {
   "cell_type": "code",
   "execution_count": 5,
   "outputs": [],
   "source": [
    "def rotation_method(a:np.array) -> np.array:\n",
    "    a = a.copy()\n",
    "    n, m = a.shape\n",
    "    for k in range(0, m - 1):\n",
    "        for j in range(k + 1, n):\n",
    "            temp = math.sqrt(a[k,k] ** 2 + a[j,k] ** 2)\n",
    "            cos = a[k,k] / (temp)\n",
    "            sin = a[j,k] / (temp)\n",
    "            a_i = cos * a[k] + sin * a[j]\n",
    "            a_j = -sin * a[k] + cos * a[j]\n",
    "            a[k] = a_i\n",
    "            a[j] = a_j\n",
    "    return backward_gauss_method(a)"
   ],
   "metadata": {
    "collapsed": false,
    "pycharm": {
     "name": "#%%\n"
    }
   }
  },
  {
   "cell_type": "code",
   "execution_count": 6,
   "outputs": [
    {
     "name": "stdout",
     "output_type": "stream",
     "text": [
      "[[0.5 ]\n",
      " [0.25]\n",
      " [0.33]\n",
      " [1.  ]]\n"
     ]
    }
   ],
   "source": [
    "test = np.array([[0.0002, 3.4, -1.8, 2.1, 2.3561],\n",
    "                 [3.7, -0.9, 0.7, 5.7, 7.556],\n",
    "                 [-1.9, -27, 5.3, 2.9, -3.051],\n",
    "                 [18, 4.1, 7.3, -0.1, 12.334]]\n",
    "                 )\n",
    "res = rotation_method(test)\n",
    "print(res)"
   ],
   "metadata": {
    "collapsed": false,
    "pycharm": {
     "name": "#%%\n"
    }
   }
  },
  {
   "cell_type": "code",
   "execution_count": 7,
   "outputs": [
    {
     "name": "stdout",
     "output_type": "stream",
     "text": [
      "\n"
     ]
    }
   ],
   "source": [
    "print()\n"
   ],
   "metadata": {
    "collapsed": false,
    "pycharm": {
     "name": "#%%\n"
    }
   }
  },
  {
   "cell_type": "code",
   "execution_count": 8,
   "outputs": [
    {
     "name": "stdout",
     "output_type": "stream",
     "text": [
      "True\n"
     ]
    }
   ],
   "source": [
    "a = test[:, :4]\n",
    "b = test[:,-1]\n",
    "print(np.allclose(np.linalg.solve(a, b), res[:,0]))\n",
    "\n"
   ],
   "metadata": {
    "collapsed": false,
    "pycharm": {
     "name": "#%%\n"
    }
   }
  },
  {
   "cell_type": "code",
   "execution_count": 9,
   "outputs": [
    {
     "name": "stdout",
     "output_type": "stream",
     "text": [
      "Is vector \"w\" normalized: True\n",
      "Is \"u\" symmetric: True\n",
      "Is \"u\" orthogonalized: True\n"
     ]
    }
   ],
   "source": [
    "test = np.array([\n",
    "    [0.521, -0.296, 0, 0.04, -0.21, 0.24886],\n",
    "    [-0.296, 0.7, 0.24, -0.32, 0.06, -0.7012],\n",
    "    [0, 0.24, -0.35, 0.07, 0.21, 0.1347],\n",
    "    [0.04, -0.32, 0.7, 0.49, -0.03, 0.4659],\n",
    "    [-0.21, 0.06, 0.21, -0.03, 0.63, -0.1749]\n",
    "                   ])\n",
    "w = np.random.sample((4,1))\n",
    "w /= np.linalg.norm(w)\n",
    "print(\"Is vector \\\"w\\\" normalized: \" + str(np.allclose(np.linalg.norm(w), 1)))\n",
    "H = np.eye(4) - 2 * np.matmul(w, w.T)\n",
    "print(\"Is \\\"u\\\" symmetric: \" + str(np.allclose(H, H.T)))\n",
    "print(\"Is \\\"u\\\" orthogonalized: \" + str(np.allclose(np.matmul(H, H.T), np.eye(4))))\n",
    "\n",
    "#print(np.allclose(, np.ones((4, 4))))"
   ],
   "metadata": {
    "collapsed": false,
    "pycharm": {
     "name": "#%%\n"
    }
   }
  },
  {
   "cell_type": "code",
   "execution_count": 10,
   "outputs": [
    {
     "name": "stdout",
     "output_type": "stream",
     "text": [
      "[[ 0.2415404 ]\n",
      " [-0.24623598]\n",
      " [-0.256537  ]\n",
      " [ 1.1610081 ]\n",
      " [-0.04976496]]\n"
     ]
    }
   ],
   "source": [
    "print(reflection_method(test))"
   ],
   "metadata": {
    "collapsed": false,
    "pycharm": {
     "name": "#%%\n"
    }
   }
  },
  {
   "cell_type": "code",
   "execution_count": 11,
   "outputs": [
    {
     "name": "stdout",
     "output_type": "stream",
     "text": [
      "[[ 0.24886]\n",
      " [-0.7012 ]\n",
      " [ 0.1347 ]\n",
      " [ 0.4659 ]\n",
      " [-0.1749 ]]\n",
      "[[ 0.521 -0.296  0.     0.04  -0.21 ]\n",
      " [-0.296  0.7    0.24  -0.32   0.06 ]\n",
      " [ 0.     0.24  -0.35   0.07   0.21 ]\n",
      " [ 0.04  -0.32   0.7    0.49  -0.03 ]\n",
      " [-0.21   0.06   0.21  -0.03   0.63 ]]\n"
     ]
    }
   ],
   "source": [
    "print(test[:, -1:])\n",
    "print(test[:,:-1])"
   ],
   "metadata": {
    "collapsed": false,
    "pycharm": {
     "name": "#%%\n"
    }
   }
  },
  {
   "cell_type": "code",
   "execution_count": 13,
   "outputs": [
    {
     "name": "stdout",
     "output_type": "stream",
     "text": [
      "[[0.76661972]\n",
      " [0.05720294]\n",
      " [0.28601469]\n",
      " [0.57202939]]\n"
     ]
    }
   ],
   "source": [],
   "metadata": {
    "collapsed": false,
    "pycharm": {
     "name": "#%%\n"
    }
   }
  },
  {
   "cell_type": "code",
   "execution_count": 14,
   "outputs": [
    {
     "name": "stdout",
     "output_type": "stream",
     "text": [
      "[[-0.1754116  -0.0877058  -0.43852901 -0.87705802]\n",
      " [-0.0877058   0.99345565 -0.03272176 -0.06544352]\n",
      " [-0.43852901 -0.03272176  0.83639119 -0.32721762]\n",
      " [-0.87705802 -0.06544352 -0.32721762  0.34556476]]\n"
     ]
    }
   ],
   "source": [
    "u = np.eye(4) - 2 * np.matmul(w, w.T)\n",
    "print(u)"
   ],
   "metadata": {
    "collapsed": false,
    "pycharm": {
     "name": "#%%\n"
    }
   }
  },
  {
   "cell_type": "code",
   "execution_count": 61,
   "outputs": [
    {
     "name": "stderr",
     "output_type": "stream",
     "text": [
      "test_3x3 (__main__.TestBackwardGaussMethod) ... ok\n",
      "test_5_x_5 (__main__.TestBackwardGaussMethod) ... ok\n",
      "test_hilbert (__main__.TestReflectionMethod) ... FAIL\n",
      "test_square (__main__.TestReflectionMethod) ... FAIL\n",
      "test_symmetric (__main__.TestReflectionMethod) ... FAIL\n",
      "test_hilbert (__main__.TestRotationMethod) ... ok\n",
      "test_square (__main__.TestRotationMethod) ... ok\n",
      "test_symmetric (__main__.TestRotationMethod) ... ok\n",
      "\n",
      "======================================================================\n",
      "FAIL: test_hilbert (__main__.TestReflectionMethod)\n",
      "----------------------------------------------------------------------\n",
      "Traceback (most recent call last):\n",
      "  File \"<ipython-input-61-be504b517716>\", line 105, in test_hilbert\n",
      "    self.pattern(a, x, self.test_hilbert)\n",
      "  File \"<ipython-input-61-be504b517716>\", line 81, in pattern\n",
      "    self.assertTrue(is_close)\n",
      "AssertionError: False is not true\n",
      "\n",
      "======================================================================\n",
      "FAIL: test_square (__main__.TestReflectionMethod)\n",
      "----------------------------------------------------------------------\n",
      "Traceback (most recent call last):\n",
      "  File \"<ipython-input-61-be504b517716>\", line 100, in test_square\n",
      "    self.pattern(a, x, self.test_square)\n",
      "  File \"<ipython-input-61-be504b517716>\", line 81, in pattern\n",
      "    self.assertTrue(is_close)\n",
      "AssertionError: False is not true\n",
      "\n",
      "======================================================================\n",
      "FAIL: test_symmetric (__main__.TestReflectionMethod)\n",
      "----------------------------------------------------------------------\n",
      "Traceback (most recent call last):\n",
      "  File \"<ipython-input-61-be504b517716>\", line 91, in test_symmetric\n",
      "    self.pattern(a, x, self.test_symmetric)\n",
      "  File \"<ipython-input-61-be504b517716>\", line 81, in pattern\n",
      "    self.assertTrue(is_close)\n",
      "AssertionError: False is not true\n",
      "\n",
      "----------------------------------------------------------------------\n",
      "Ran 8 tests in 0.039s\n",
      "\n",
      "FAILED (failures=3)\n"
     ]
    },
    {
     "name": "stdout",
     "output_type": "stream",
     "text": [
      "TestReflectionMethod\n",
      "<bound method TestReflectionMethod.test_hilbert of <__main__.TestReflectionMethod testMethod=test_hilbert>> \n",
      " [[-0.02421435]\n",
      " [ 0.09699451]\n",
      " [ 0.01384976]\n",
      " [-0.04753712]\n",
      " [-0.08507607]]\n",
      "TestReflectionMethod\n",
      "<bound method TestReflectionMethod.test_square of <__main__.TestReflectionMethod testMethod=test_square>> \n",
      " [[-0.50129495]\n",
      " [ 0.01584289]\n",
      " [-0.3345553 ]\n",
      " [ 0.26595235]]\n",
      "TestReflectionMethod\n",
      "<bound method TestReflectionMethod.test_symmetric of <__main__.TestReflectionMethod testMethod=test_symmetric>> \n",
      " [[-0.06063187]\n",
      " [-0.16106731]\n",
      " [-0.02576008]\n",
      " [-0.312363  ]\n",
      " [ 0.01710571]]\n",
      "TestRotationMethod\n",
      "<bound method TestRotationMethod.test_hilbert of <__main__.TestRotationMethod testMethod=test_hilbert>> \n",
      " [[1.33226763e-15]\n",
      " [6.66133815e-16]\n",
      " [5.55111512e-16]\n",
      " [4.99600361e-16]\n",
      " [2.22044605e-16]]\n",
      "TestRotationMethod\n",
      "<bound method TestRotationMethod.test_square of <__main__.TestRotationMethod testMethod=test_square>> \n",
      " [[ 0.00000000e+00]\n",
      " [ 0.00000000e+00]\n",
      " [-3.55271368e-15]\n",
      " [ 0.00000000e+00]]\n",
      "TestRotationMethod\n",
      "<bound method TestRotationMethod.test_symmetric of <__main__.TestRotationMethod testMethod=test_symmetric>> \n",
      " [[-8.88178420e-16]\n",
      " [ 0.00000000e+00]\n",
      " [-6.66133815e-16]\n",
      " [ 0.00000000e+00]\n",
      " [-1.66533454e-16]]\n"
     ]
    },
    {
     "data": {
      "text/plain": "<unittest.main.TestProgram at 0x16fd18c78d0>"
     },
     "execution_count": 61,
     "metadata": {},
     "output_type": "execute_result"
    }
   ],
   "source": [
    "import unittest\n",
    "class TestBackwardGaussMethod(unittest.TestCase):\n",
    "    def pattern(self, a, x):\n",
    "        b = np.matmul(a, x)\n",
    "        a_extend = np.append(a, b, axis=1)\n",
    "        calc_x = backward_gauss_method(a_extend)\n",
    "        is_close = np.allclose(\n",
    "            calc_x,\n",
    "            x\n",
    "        )\n",
    "        self.assertTrue(is_close)\n",
    "    def test_5_x_5(self):\n",
    "        a = np.array([\n",
    "            [1, 2, 3, 4, 5],\n",
    "            [0, 7, 6, 1, 2],\n",
    "            [0, 0, 3, 5, 8],\n",
    "            [0, 0, 0, 9, 2],\n",
    "            [0, 0, 0, 0, 1]\n",
    "        ], dtype='float64')\n",
    "        x = np.array([[-5, 6, 8, -2, -4]]).T\n",
    "        self.pattern(a, x)\n",
    "    def test_3x3(self):\n",
    "        a = np.array([\n",
    "            [7, -2, 3],\n",
    "            [0, 9, 0],\n",
    "            [0, 0, -2]\n",
    "        ], dtype='float64')\n",
    "        x = np.array([[-1, 2, -6]]).T\n",
    "        self.pattern(a, x)\n",
    "class TestRotationMethod(unittest.TestCase):\n",
    "    def setUp(self):\n",
    "        print(type(self).__name__)\n",
    "    def pattern(self, a, x, method_name):\n",
    "        b = np.matmul(a, x)\n",
    "        a_extend = np.append(a, b, axis=1)\n",
    "        calc_x = rotation_method(a_extend)\n",
    "        is_close = np.allclose(\n",
    "            calc_x,\n",
    "            x\n",
    "        )\n",
    "        discrepancy = b - np.matmul(a, calc_x)\n",
    "        print(str(method_name), '\\n', discrepancy)\n",
    "        self.assertTrue(is_close)\n",
    "    def test_symmetric(self):\n",
    "        a = np.array([\n",
    "            [0.521,-0.296, 0, 0.04, -0.21],\n",
    "            [-0.296, 0.7, 0.24, -0.32, 0.06],\n",
    "            [0, 0.24, -0.35, 0.07, 0.21],\n",
    "            [0.04, -0.32, 0.7, 0.49, -0.03],\n",
    "            [-0.21, 0.06, 0.21, -0.03, 0.63]\n",
    "        ], dtype='float64')\n",
    "        x = np.array([[1, -3, 4, 8, -1]]).T\n",
    "        self.pattern(a, x, self.test_symmetric)\n",
    "    def test_square(self):\n",
    "        a = np.array([\n",
    "            [2, 3, -4, 1],\n",
    "            [1, -2, -5, 1],\n",
    "            [5, -3, 1, -4],\n",
    "            [10, 2, -1, 2]\n",
    "        ], dtype='float64')\n",
    "        x = np.array([[1, 3, -4, 2]], dtype='float64').T\n",
    "        self.pattern(a, x, self.test_square)\n",
    "    def test_hilbert(self):\n",
    "        n = 5\n",
    "        a = np.array([[1/(i + j - 1) for j in range(1, n+1)] for i in range(1, n + 1)])\n",
    "        x = np.array([[-5, 6, 8, -2, -4]]).T\n",
    "        self.pattern(a, x, self.test_hilbert)\n",
    "class TestReflectionMethod(unittest.TestCase):\n",
    "    def setUp(self):\n",
    "        print(type(self).__name__)\n",
    "    def pattern(self, a, x, method_name):\n",
    "        b = np.matmul(a, x)\n",
    "        a_extend = np.append(a, b, axis=1)\n",
    "        calc_x = reflection_method(a_extend)\n",
    "        is_close = np.allclose(\n",
    "            calc_x,\n",
    "            x\n",
    "        )\n",
    "        discrepancy = b - np.matmul(a, calc_x)\n",
    "        print(str(method_name), '\\n', discrepancy)\n",
    "        self.assertTrue(is_close)\n",
    "    def test_symmetric(self):\n",
    "        a = np.array([\n",
    "            [0.521,-0.296, 0, 0.04, -0.21],\n",
    "            [-0.296, 0.7, 0.24, -0.32, 0.06],\n",
    "            [0, 0.24, -0.35, 0.07, 0.21],\n",
    "            [0.04, -0.32, 0.7, 0.49, -0.03],\n",
    "            [-0.21, 0.06, 0.21, -0.03, 0.63]\n",
    "        ], dtype='float64')\n",
    "        x = np.array([[1, -3, 4, 8, -1]]).T\n",
    "        self.pattern(a, x, self.test_symmetric)\n",
    "    def test_square(self):\n",
    "        a = np.array([\n",
    "            [2, 3, -4, 1],\n",
    "            [1, -2, -5, 1],\n",
    "            [5, -3, 1, -4],\n",
    "            [10, 2, -1, 2]\n",
    "        ], dtype='float64')\n",
    "        x = np.array([[1, 3, -4, 2]], dtype='float64').T\n",
    "        self.pattern(a, x, self.test_square)\n",
    "    def test_hilbert(self):\n",
    "        n = 5\n",
    "        a = np.array([[1/(i + j - 1) for j in range(1, n+1)] for i in range(1, n + 1)])\n",
    "        x = np.array([[-5, 6, 8, -2, -4]]).T\n",
    "        self.pattern(a, x, self.test_hilbert)\n",
    "unittest.main(argv=[''], verbosity=2, exit=False)"
   ],
   "metadata": {
    "collapsed": false,
    "pycharm": {
     "name": "#%%\n"
    }
   }
  },
  {
   "cell_type": "code",
   "execution_count": 69,
   "outputs": [],
   "source": [
    "n = 5\n",
    "a = np.array([\n",
    "    [2, 3, -4, 1],\n",
    "    [1, -2, -5, 1],\n",
    "    [5, -3, 1, -4],\n",
    "    [10, 2, -1, 2]\n",
    "], dtype='float64')\n",
    "\n",
    "b = np.array([[3, 2, 1, 4]], dtype='float64').T\n",
    "x_calc = reflection_method(a, b)"
   ],
   "metadata": {
    "collapsed": false,
    "pycharm": {
     "name": "#%%\n"
    }
   }
  },
  {
   "cell_type": "code",
   "execution_count": 70,
   "outputs": [
    {
     "name": "stdout",
     "output_type": "stream",
     "text": [
      "[[ 0.33155823]\n",
      " [ 0.23714997]\n",
      " [-0.45411275]\n",
      " [-0.13698309]]\n"
     ]
    }
   ],
   "source": [
    "print(x_calc)"
   ],
   "metadata": {
    "collapsed": false,
    "pycharm": {
     "name": "#%%\n"
    }
   }
  },
  {
   "cell_type": "code",
   "execution_count": 72,
   "outputs": [
    {
     "name": "stdout",
     "output_type": "stream",
     "text": [
      "[[-2.79258168]\n",
      " [ 0.76184989]\n",
      " [ 0.67504234]\n",
      " [ 0.56206945]\n",
      " [ 7.18503136]]\n"
     ]
    }
   ],
   "source": [
    "a_1 = np.array([[1/(i + j - 1) for j in range(1, n+1)] for i in range(1, n + 1)], dtype='float64')\n",
    "x_1 = np.array([[-5, 6, 8, -2, -4]], dtype='float64').T\n",
    "b_1 = np.matmul(a_1, x_1)\n",
    "x_calc_1 = reflection_method(a_1, b_1)\n",
    "print(x_calc_1)"
   ],
   "metadata": {
    "collapsed": false,
    "pycharm": {
     "name": "#%%\n"
    }
   }
  },
  {
   "cell_type": "code",
   "execution_count": null,
   "outputs": [],
   "source": [],
   "metadata": {
    "collapsed": false,
    "pycharm": {
     "name": "#%%\n"
    }
   }
  }
 ],
 "metadata": {
  "kernelspec": {
   "display_name": "Python 3",
   "language": "python",
   "name": "python3"
  },
  "language_info": {
   "codemirror_mode": {
    "name": "ipython",
    "version": 2
   },
   "file_extension": ".py",
   "mimetype": "text/x-python",
   "name": "python",
   "nbconvert_exporter": "python",
   "pygments_lexer": "ipython2",
   "version": "2.7.6"
  }
 },
 "nbformat": 4,
 "nbformat_minor": 0
}