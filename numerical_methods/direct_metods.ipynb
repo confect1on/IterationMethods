{
 "cells": [
  {
   "cell_type": "code",
   "execution_count": 2,
   "metadata": {
    "collapsed": true
   },
   "outputs": [],
   "source": [
    "import numpy as np\n",
    "import math"
   ]
  },
  {
   "cell_type": "code",
   "execution_count": 3,
   "outputs": [],
   "source": [
    "def is_u_triangular(a:np.ndarray):\n",
    "    return np.allclose(a[:, :4], np.triu(a[:, :4]))\n",
    "def is_singular(a:np.ndarray):\n",
    "    return np.linalg.det(a)"
   ],
   "metadata": {
    "collapsed": false,
    "pycharm": {
     "name": "#%%\n"
    }
   }
  },
  {
   "cell_type": "code",
   "execution_count": 4,
   "outputs": [],
   "source": [
    "def reflection_method(a:np.ndarray):\n",
    "    n, m = a.shape\n",
    "    w = np.random.sample((1,n))\n",
    "    w /= np.linalg.norm(w)\n",
    "    return np.sum(w)"
   ],
   "metadata": {
    "collapsed": false,
    "pycharm": {
     "name": "#%%\n"
    }
   }
  },
  {
   "cell_type": "code",
   "execution_count": 5,
   "outputs": [],
   "source": [
    "def backward_gauss_method(a:np.ndarray):\n",
    "    a = a.copy()\n",
    "    n, m = a.shape\n",
    "    x = np.zeros((n, 1))\n",
    "    for k in range(n-1, -1, -1):\n",
    "        x[k] = (a[k, -1] - np.dot(a[k, k:n], x[k:n])) / a[k, k]\n",
    "    return x"
   ],
   "metadata": {
    "collapsed": false,
    "pycharm": {
     "name": "#%%\n"
    }
   }
  },
  {
   "cell_type": "code",
   "execution_count": 6,
   "outputs": [],
   "source": [
    "def rotation_method(a:np.ndarray):\n",
    "    a = a.copy()\n",
    "    n, m = a.shape\n",
    "    for k in range(0, m - 1):\n",
    "        for j in range(k + 1, n):\n",
    "            temp = math.sqrt(a[k,k] ** 2 + a[j,k] ** 2)\n",
    "            cos = a[k,k] / (temp)\n",
    "            sin = a[j,k] / (temp)\n",
    "            a_i = cos * a[k] + sin * a[j]\n",
    "            a_j = -sin * a[k] + cos * a[j]\n",
    "            a[k] = a_i\n",
    "            a[j] = a_j\n",
    "    return backward_gauss_method(a)"
   ],
   "metadata": {
    "collapsed": false,
    "pycharm": {
     "name": "#%%\n"
    }
   }
  },
  {
   "cell_type": "code",
   "execution_count": 7,
   "outputs": [
    {
     "name": "stdout",
     "output_type": "stream",
     "text": [
      "[[0.5 ]\n",
      " [0.25]\n",
      " [0.33]\n",
      " [1.  ]]\n"
     ]
    }
   ],
   "source": [
    "test = np.array([[0.0002, 3.4, -1.8, 2.1, 2.3561],\n",
    "                 [3.7, -0.9, 0.7, 5.7, 7.556],\n",
    "                 [-1.9, -27, 5.3, 2.9, -3.051],\n",
    "                 [18, 4.1, 7.3, -0.1, 12.334]]\n",
    "                 )\n",
    "res = rotation_method(test)\n",
    "print(res)"
   ],
   "metadata": {
    "collapsed": false,
    "pycharm": {
     "name": "#%%\n"
    }
   }
  },
  {
   "cell_type": "code",
   "execution_count": 7,
   "outputs": [],
   "source": [
    "print()\n"
   ],
   "metadata": {
    "collapsed": false,
    "pycharm": {
     "name": "#%%\n"
    }
   }
  },
  {
   "cell_type": "code",
   "execution_count": 8,
   "outputs": [
    {
     "name": "stdout",
     "output_type": "stream",
     "text": [
      "True\n"
     ]
    }
   ],
   "source": [
    "a = test[:, :4]\n",
    "b = test[:,-1]\n",
    "print(np.allclose(np.linalg.solve(a, b), res[:,0]))\n",
    "\n",
    "\n"
   ],
   "metadata": {
    "collapsed": false,
    "pycharm": {
     "name": "#%%\n"
    }
   }
  }
 ],
 "metadata": {
  "kernelspec": {
   "display_name": "Python 3",
   "language": "python",
   "name": "python3"
  },
  "language_info": {
   "codemirror_mode": {
    "name": "ipython",
    "version": 2
   },
   "file_extension": ".py",
   "mimetype": "text/x-python",
   "name": "python",
   "nbconvert_exporter": "python",
   "pygments_lexer": "ipython2",
   "version": "2.7.6"
  }
 },
 "nbformat": 4,
 "nbformat_minor": 0
}