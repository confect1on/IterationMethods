{
 "cells": [
  {
   "cell_type": "code",
   "execution_count": 104,
   "metadata": {},
   "outputs": [],
   "source": [
    "import numpy as np"
   ]
  },
  {
   "cell_type": "code",
   "execution_count": 105,
   "outputs": [],
   "source": [
    "# Метод Якоби"
   ],
   "metadata": {
    "collapsed": false
   }
  },
  {
   "cell_type": "code",
   "execution_count": 106,
   "metadata": {},
   "outputs": [],
   "source": [
    "def jacobi_method(\n",
    "        a:np.array,\n",
    "        b:np.array,\n",
    "        eps:float=1e-6) -> np.array:\n",
    "    if np.allclose(np.diag(a), 0):\n",
    "        raise ValueError(\"All diagonal elements are close to zero \")\n",
    "    n, m = a.shape\n",
    "    A = a.copy()\n",
    "    B = b.copy()\n",
    "    norm = eps + 1\n",
    "    current_solution = np.zeros((n, 1))\n",
    "    previous_solution = B / A.diagonal()\n",
    "    while norm > eps:\n",
    "        current_solution = B.copy()\n",
    "        for i in range(n):\n",
    "            for j in range(n):\n",
    "                if i != j:\n",
    "                    current_solution[i][0] -= A[i,j] * previous_solution[j][0]\n",
    "        current_solution /= A.diagonal()[:,np.newaxis]\n",
    "        norm = np.linalg.norm(current_solution - previous_solution)\n",
    "        previous_solution = current_solution\n",
    "\n",
    "    return current_solution"
   ]
  },
  {
   "cell_type": "code",
   "execution_count": 107,
   "outputs": [],
   "source": [
    "a = np.array([[10, 1, -1],\n",
    "            [1, 10, -1],\n",
    "             [-1, 1, 10]], dtype=\"float64\")\n",
    "b = np.array([[11, 10, 10]], dtype=\"float64\").T"
   ],
   "metadata": {
    "collapsed": false
   }
  },
  {
   "cell_type": "code",
   "execution_count": 108,
   "metadata": {},
   "outputs": [
    {
     "data": {
      "text/plain": "array([[1.1020202],\n       [0.9909091],\n       [1.0111111]])"
     },
     "execution_count": 108,
     "metadata": {},
     "output_type": "execute_result"
    }
   ],
   "source": [
    "jacobi_method(a, b)"
   ]
  },
  {
   "cell_type": "code",
   "execution_count": 109,
   "outputs": [
    {
     "data": {
      "text/plain": "array([[1.1020202 ],\n       [0.99090909],\n       [1.01111111]])"
     },
     "execution_count": 109,
     "metadata": {},
     "output_type": "execute_result"
    }
   ],
   "source": [
    "np.linalg.solve(a, b)"
   ],
   "metadata": {
    "collapsed": false
   }
  },
  {
   "cell_type": "markdown",
   "source": [
    "# Метод минимальных невязок"
   ],
   "metadata": {
    "collapsed": false
   }
  },
  {
   "cell_type": "code",
   "execution_count": 119,
   "outputs": [],
   "source": [
    "def minimal_residuals(a:np.array, b:np.array, eps=1e-6):\n",
    "    n, _ = a.shape\n",
    "    prev_solution = np.ones((n, 1))\n",
    "    current_solution = np.zeros((n, 1))\n",
    "    r = np.ones((n, 1))\n",
    "    while np.linalg.norm(r) > eps:\n",
    "        r = a @ prev_solution - b\n",
    "        temp = (a @ r)[:,0]\n",
    "        iter_param = np.inner(temp, r[:,0]) / np.inner(temp, temp)\n",
    "        current_solution = prev_solution - iter_param * r\n",
    "        prev_solution = current_solution\n",
    "    return current_solution"
   ],
   "metadata": {
    "collapsed": false
   }
  },
  {
   "cell_type": "code",
   "execution_count": 120,
   "outputs": [
    {
     "data": {
      "text/plain": "array([[1.1020202 ],\n       [0.99090909],\n       [1.01111111]])"
     },
     "execution_count": 120,
     "metadata": {},
     "output_type": "execute_result"
    }
   ],
   "source": [
    "minimal_residuals(a, b)"
   ],
   "metadata": {
    "collapsed": false
   }
  },
  {
   "cell_type": "code",
   "execution_count": null,
   "outputs": [],
   "source": [],
   "metadata": {
    "collapsed": false
   }
  },
  {
   "cell_type": "code",
   "execution_count": 114,
   "outputs": [
    {
     "data": {
      "text/plain": "array([[-0.01960784],\n       [ 0.09803922],\n       [-0.09803922]])"
     },
     "execution_count": 114,
     "metadata": {},
     "output_type": "execute_result"
    }
   ],
   "source": [
    "a @ Out[112] - b"
   ],
   "metadata": {
    "collapsed": false
   }
  },
  {
   "cell_type": "code",
   "execution_count": null,
   "outputs": [],
   "source": [],
   "metadata": {
    "collapsed": false
   }
  }
 ],
 "metadata": {
  "kernelspec": {
   "display_name": "Python 3",
   "language": "python",
   "name": "python3"
  },
  "language_info": {
   "codemirror_mode": {
    "name": "ipython",
    "version": 3
   },
   "file_extension": ".py",
   "mimetype": "text/x-python",
   "name": "python",
   "nbconvert_exporter": "python",
   "pygments_lexer": "ipython3",
   "version": "3.5.2"
  }
 },
 "nbformat": 4,
 "nbformat_minor": 1
}
