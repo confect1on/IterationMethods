{
 "cells": [
  {
   "cell_type": "code",
   "execution_count": 1,
   "id": "ad53bc46-bd68-419e-afec-4c332b2c75fc",
   "metadata": {},
   "outputs": [],
   "source": [
    "import numpy as np\n",
    "import math"
   ]
  },
  {
   "cell_type": "code",
   "execution_count": 2,
   "id": "7b989689-b107-4e86-a7cd-2b53a3892056",
   "metadata": {},
   "outputs": [],
   "source": [
    "a = np.array([[2.1, 2.4, 2.6, 2.8, 3.0], [0., 1., 2., 4., 5.]])"
   ]
  },
  {
   "cell_type": "code",
   "execution_count": 3,
   "id": "f865eb2c-7966-49ef-ad44-5251e065ab6f",
   "metadata": {},
   "outputs": [],
   "source": [
    "def norm_of_discrepancy_matrix(x, y, a):\n",
    "    '''\n",
    "    Calculate a square of discrepancy between original matrix and multiply of one-rank vectors of approximation\n",
    "    '''\n",
    "    m, n = a.shape\n",
    "    res = 0\n",
    "    discrepancy_matrix = a - x @ y\n",
    "    return np.linalg.norm(discrepancy_matrix, 'fro') ** 2"
   ]
  },
  {
   "cell_type": "code",
   "execution_count": 4,
   "id": "30676c44-39b7-4de0-b239-0eee622701a7",
   "metadata": {},
   "outputs": [],
   "source": [
    "def least_square_method(a):\n",
    "    '''\n",
    "    Calculate approximation of original matrix by two one-rank vectors\n",
    "    '''\n",
    "    EPS = 1e-4 ##точность приближения\n",
    "    M, N = a.shape\n",
    "    y = np.random.rand(1,N) ## в качестве первого приближения (де)генерируем случайный вектор и нормируем его\n",
    "    #y /= np.linalg.norm(y, 'fro')\n",
    "    y /= sum(y)\n",
    "    x = np.zeros((M, 1)) ##второй вектор просто инициализируем\n",
    "    dF = EPS + 1 ## dF/F\n",
    "    F = norm_of_discrepancy_matrix(x, y, a)\n",
    "    while dF > EPS:\n",
    "        x = generate_x_vector(y, a)\n",
    "        y = generate_y_vector(x, a)\n",
    "        t = norm_of_discrepancy_matrix(x, y, a)\n",
    "        dF = abs(F - t)/t\n",
    "        F = t\n",
    "    return (x, y)\n"
   ]
  },
  {
   "cell_type": "code",
   "execution_count": 5,
   "id": "e7b0578d-6acd-48b4-b5e8-730685fa3f8e",
   "metadata": {},
   "outputs": [],
   "source": [
    "##создание вектора x по вектору y скалярными произведениями строк a на вектор y\n",
    "def generate_x_vector(y, a):\n",
    "    m = a.shape[0]\n",
    "    norm = np.linalg.norm(y) ** 2\n",
    "    x = np.zeros((m, 1), dtype=np.float64)\n",
    "    for i in range(m):\n",
    "        x[i,0] = np.dot(a[i, :], y[0]) / norm\n",
    "    return x\n",
    "    "
   ]
  },
  {
   "cell_type": "code",
   "execution_count": 6,
   "id": "a633a707-3b03-4c37-93a3-2ae58759f92e",
   "metadata": {},
   "outputs": [],
   "source": [
    "##создание вектора y по вектору x скалярными произведениями столбцов a на вектор x\n",
    "def generate_y_vector(x, a):\n",
    "    n = a.shape[1]\n",
    "    norm = np.linalg.norm(x) ** 2\n",
    "    y = np.zeros((1, n), dtype=np.float64)\n",
    "    for j in range(n):\n",
    "        y[0,j] = np.dot(a[:,j], x) / norm\n",
    "    return y\n"
   ]
  },
  {
   "cell_type": "code",
   "execution_count": 7,
   "id": "20f4fab6-08e8-4f54-8f35-bef096560c66",
   "metadata": {},
   "outputs": [],
   "source": [
    "def SVD(A):\n",
    "    '''\n",
    "    Implementation of simple iteration method of Singular Value Decomposition\n",
    "    '''\n",
    "    eps = 1e-4\n",
    "    list_of_singular_vectors = []\n",
    "    a = np.array(A, copy=True)\n",
    "    dN = eps + 1\n",
    "    norm = np.linalg.norm(a)\n",
    "    while np.linalg.norm(a) > 1e-1:\n",
    "    #while dN > eps:\n",
    "        x, y = least_square_method(a)\n",
    "        list_of_singular_vectors.append((x, y))\n",
    "        a -= x @ y\n",
    "        t = np.linalg.norm(a)\n",
    "        dN = norm - t\n",
    "        norm = t\n",
    "        print(norm)\n",
    "    return list_of_singular_vectors"
   ]
  },
  {
   "cell_type": "code",
   "execution_count": 8,
   "id": "2c470fc4-e648-426d-b6e1-e42ec4182a94",
   "metadata": {},
   "outputs": [
    {
     "name": "stdout",
     "output_type": "stream",
     "text": [
      "2.352934275248024\n",
      "1.5232729226890833e-15\n",
      "8.61589811316052\n",
      "2.3529342752480242\n"
     ]
    }
   ],
   "source": [
    "res = np.zeros(a.shape)\n",
    "for x, y in SVD(a):\n",
    "    res += x @ y\n",
    "    sing_value = np.linalg.norm(x) * np.linalg.norm(y)\n",
    "    left_vector = x / np.linalg.norm(x)\n",
    "    right_vector = y / np.linalg.norm(y)\n",
    "    print(sing_value)"
   ]
  },
  {
   "cell_type": "code",
   "execution_count": 9,
   "id": "41c48227-bd34-4765-82af-16c3b592cba8",
   "metadata": {},
   "outputs": [
    {
     "name": "stdout",
     "output_type": "stream",
     "text": [
      "Approximation matrix norm: 8.93140526457063\n",
      "Original matrix norm: 8.931405264570632\n",
      "Approximation matrix: \n",
      "[[ 2.10000000e+00  2.40000000e+00  2.60000000e+00  2.80000000e+00\n",
      "   3.00000000e+00]\n",
      " [-6.66133815e-16  1.00000000e+00  2.00000000e+00  4.00000000e+00\n",
      "   5.00000000e+00]]\n",
      "Original matrix: \n",
      "[[2.1 2.4 2.6 2.8 3. ]\n",
      " [0.  1.  2.  4.  5. ]]\n"
     ]
    }
   ],
   "source": [
    "print(f\"Approximation matrix norm: {np.linalg.norm(res)}\")\n",
    "print(f\"Original matrix norm: {np.linalg.norm(a)}\")\n",
    "print(f\"Approximation matrix: \")\n",
    "print(res)\n",
    "print(f\"Original matrix: \")\n",
    "print(a)"
   ]
  },
  {
   "cell_type": "code",
   "execution_count": 9,
   "id": "1ddc321d-fd6d-4aef-aaaf-8bc73ba18e68",
   "metadata": {},
   "outputs": [],
   "source": []
  },
  {
   "cell_type": "code",
   "execution_count": 9,
   "id": "4dc84dd6-cec0-498e-acdd-01eec257aa29",
   "metadata": {},
   "outputs": [],
   "source": []
  }
 ],
 "metadata": {
  "kernelspec": {
   "display_name": "Python 3 (ipykernel)",
   "language": "python",
   "name": "python3"
  },
  "language_info": {
   "codemirror_mode": {
    "name": "ipython",
    "version": 3
   },
   "file_extension": ".py",
   "mimetype": "text/x-python",
   "name": "python",
   "nbconvert_exporter": "python",
   "pygments_lexer": "ipython3",
   "version": "3.9.7"
  },
  "toc-autonumbering": false
 },
 "nbformat": 4,
 "nbformat_minor": 5
}
